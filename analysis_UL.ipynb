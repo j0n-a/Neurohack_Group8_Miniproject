{
 "cells": [
  {
   "cell_type": "code",
   "execution_count": 13,
   "id": "bc9811e8-12e7-4133-89e5-bce8eef6b513",
   "metadata": {},
   "outputs": [],
   "source": [
    "# We will need the RBCPath type from the rbclib package to load data from the RBC.\n",
    "from rbclib import RBCPath\n",
    "\n",
    "# We'll also want to load some data directly from the filesystem.\n",
    "from pathlib import Path\n",
    "\n",
    "# We'll want to load/process some of the data using pandas and numpy.\n",
    "import pandas as pd\n",
    "import numpy as np\n",
    "\n",
    "import plotly.express as px\n",
    "from ipywidgets import IntProgress"
   ]
  },
  {
   "cell_type": "markdown",
   "id": "97ac0df6-9208-4d85-8a70-044f60ae2f6c",
   "metadata": {},
   "source": [
    "### Getting the Participant Lists and Metadata"
   ]
  },
  {
   "cell_type": "markdown",
   "id": "a3b349df-15c8-42a0-a18b-1a7e6a6b28c2",
   "metadata": {},
   "source": [
    "We have pre-sorted the participants in the PNC study into a training and a\n",
    "test dataset. Basic metadata about each participant can be found in TSV files\n",
    "in the `shared` directory in your home directory."
   ]
  },
  {
   "cell_type": "code",
   "execution_count": 55,
   "id": "a1032c95-1ca5-4ef5-96d1-8f51acf260d7",
   "metadata": {},
   "outputs": [],
   "source": [
    "# Participant meta-data is generally located in the BIDS repository for each\n",
    "# study:\n",
    "rbcdata_path = Path('/home/jovyan/shared/data/RBC')\n",
    "train_filepath = rbcdata_path / 'train_participants.tsv'\n",
    "test_filepath = rbcdata_path / 'test_participants.tsv'\n",
    "\n",
    "# Load the PNC participants TSV files...\n",
    "with train_filepath.open('r') as f:\n",
    "    train_data = pd.read_csv(f, sep='\\t')\n",
    "with test_filepath.open('r') as f:\n",
    "    test_data = pd.read_csv(f, sep='\\t')\n",
    "\n",
    "# We can also concatenate the two datasets into a single dataset of all\n",
    "# study participants:\n",
    "all_data = pd.concat([train_data, test_data])\n"
   ]
  },
  {
   "cell_type": "markdown",
   "id": "6929ed1a-02a9-424a-b05c-6f97e71bf052",
   "metadata": {},
   "source": [
    "### Step 1. Collect Data"
   ]
  },
  {
   "cell_type": "code",
   "execution_count": 5,
   "id": "8d74b7d4-132f-4ce8-bc02-2d3a6fa1b944",
   "metadata": {},
   "outputs": [],
   "source": [
    "def load_fsdata(participant_id, local_cache_dir=(Path.home() / 'cache')):\n",
    "    \"Loads and returns the dataframe of a PNC participant's FreeSurfer data.\"\n",
    "\n",
    "    # Check that the local_cache_dir exists and make it if it doesn't.\n",
    "    if local_cache_dir is not None:\n",
    "        local_cache_dir = Path(local_cache_dir)\n",
    "        local_cache_dir.mkdir(exist_ok=True)\n",
    "    \n",
    "    # Make the RBCPath and find the appropriate file:\n",
    "    pnc_freesurfer_path = RBCPath(\n",
    "        'rbc://PNC_FreeSurfer/freesurfer',\n",
    "        # We provide the local_cache_dir to the RBCPath object; all paths made\n",
    "        # from this object will use the same cache directory.\n",
    "        local_cache_dir=local_cache_dir)\n",
    "    participant_path = pnc_freesurfer_path / f'sub-{participant_id}'\n",
    "    tsv_path = participant_path / f'sub-{participant_id}_regionsurfacestats.tsv'\n",
    "\n",
    "    # Use pandas to read in the TSV file:\n",
    "    with tsv_path.open('r') as f:\n",
    "        data = pd.read_csv(f, sep='\\t')\n",
    "\n",
    "    # Return the loaded data:\n",
    "    return data"
   ]
  },
  {
   "cell_type": "code",
   "execution_count": 47,
   "id": "ad3e386a-ca90-4499-9316-bc8796f0d239",
   "metadata": {},
   "outputs": [
    {
     "data": {
      "application/vnd.jupyter.widget-view+json": {
       "model_id": "27ec64d63fd4418f9779a83d2c4a289a",
       "version_major": 2,
       "version_minor": 0
      },
      "text/plain": [
       "IntProgress(value=0, max=1601)"
      ]
     },
     "metadata": {},
     "output_type": "display_data"
    },
    {
     "name": "stdout",
     "output_type": "stream",
     "text": [
      "Skipping subject 1342487188 due to error: [Errno 2] No such file or directory: '/home/jovyan/shared/data/RBC/PNC_FreeSurfer/freesurfer/sub-1342487188/sub-1342487188_regionsurfacestats.tsv'\n",
      "Skipping subject 1649551035 due to error: [Errno 2] No such file or directory: '/home/jovyan/shared/data/RBC/PNC_FreeSurfer/freesurfer/sub-1649551035/sub-1649551035_regionsurfacestats.tsv'\n",
      "Skipping subject 2003542642 due to error: [Errno 2] No such file or directory: '/home/jovyan/shared/data/RBC/PNC_FreeSurfer/freesurfer/sub-2003542642/sub-2003542642_regionsurfacestats.tsv'\n",
      "Skipping subject 219325366 due to error: [Errno 2] No such file or directory: '/home/jovyan/shared/data/RBC/PNC_FreeSurfer/freesurfer/sub-219325366/sub-219325366_regionsurfacestats.tsv'\n",
      "Skipping subject 2249226316 due to error: [Errno 2] No such file or directory: '/home/jovyan/shared/data/RBC/PNC_FreeSurfer/freesurfer/sub-2249226316/sub-2249226316_regionsurfacestats.tsv'\n",
      "Skipping subject 4184549693 due to error: [Errno 2] No such file or directory: '/home/jovyan/shared/data/RBC/PNC_FreeSurfer/freesurfer/sub-4184549693/sub-4184549693_regionsurfacestats.tsv'\n",
      "Skipping subject 4205323727 due to error: [Errno 2] No such file or directory: '/home/jovyan/shared/data/RBC/PNC_FreeSurfer/freesurfer/sub-4205323727/sub-4205323727_regionsurfacestats.tsv'\n",
      "Skipping subject 533698126 due to error: [Errno 2] No such file or directory: '/home/jovyan/shared/data/RBC/PNC_FreeSurfer/freesurfer/sub-533698126/sub-533698126_regionsurfacestats.tsv'\n",
      "Loading subject (1601/1601) ..."
     ]
    }
   ],
   "source": [
    "subjects = all_data.participant_id.unique()\n",
    "n_subj = subjects.shape[0]\n",
    "\n",
    "\n",
    "prog = IntProgress(min=0, max=len(subjects))\n",
    "display(prog)\n",
    "all_sub_brain_data = pd.DataFrame()\n",
    "\n",
    "\n",
    "for num_sub, sub_id in enumerate(subjects):\n",
    "    print(f\"Loading subject ({num_sub + 1}/{n_subj}) ...\", end='\\r')\n",
    "    try:\n",
    "        sub_brain_data = load_fsdata(sub_id)\n",
    "        all_sub_brain_data = pd.concat([all_sub_brain_data, sub_brain_data], ignore_index=True)\n",
    "    except Exception as e:\n",
    "        print(f\"Skipping subject {sub_id} due to error: {e}\")\n",
    "    prog.value += 1"
   ]
  },
  {
   "cell_type": "code",
   "execution_count": 54,
   "id": "1b408358-36fc-4616-9e67-b37fe197148e",
   "metadata": {},
   "outputs": [],
   "source": [
    "tsv_fn = '~/projects/Neurohack_Group8_Miniproject/all_subject_brainData.tsv.gz'\n",
    "all_sub_brain_data.to_csv(tsv_fn, sep=\"\\t\", na_rep='NaN', index=False, compression='gzip')"
   ]
  },
  {
   "cell_type": "code",
   "execution_count": 56,
   "id": "5b235f40-f1d8-4e7f-b2f3-6eee893341a0",
   "metadata": {},
   "outputs": [],
   "source": [
    "parquet_fn = '~/projects/Neurohack_Group8_Miniproject/all_subject_brainData.parquet'\n",
    "all_sub_brain_data.to_parquet(parquet_fn, index=False, compression='snappy')"
   ]
  },
  {
   "cell_type": "code",
   "execution_count": null,
   "id": "c16d3dd2-286f-40d1-9567-6b29c48711b6",
   "metadata": {},
   "outputs": [],
   "source": []
  }
 ],
 "metadata": {
  "kernelspec": {
   "display_name": "Python 3 (ipykernel)",
   "language": "python",
   "name": "python3"
  },
  "language_info": {
   "codemirror_mode": {
    "name": "ipython",
    "version": 3
   },
   "file_extension": ".py",
   "mimetype": "text/x-python",
   "name": "python",
   "nbconvert_exporter": "python",
   "pygments_lexer": "ipython3",
   "version": "3.11.11"
  }
 },
 "nbformat": 4,
 "nbformat_minor": 5
}
